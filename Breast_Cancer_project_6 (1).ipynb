{
  "cells": [
    {
      "cell_type": "markdown",
      "metadata": {
        "id": "EBSA7WvLwVwj"
      },
      "source": [
        "**NAME**:- **PAMMI** **KUMARI**\n",
        "\n",
        "**ROLL**:- **1323491**"
      ]
    },
    {
      "cell_type": "markdown",
      "metadata": {
        "id": "51P4HxN4v8Gv"
      },
      "source": [
        "Project Title- \"Breast cancer classification using machine learning algorithims (Decision Tree,Random Forest, SVM, and Naive Bayes)\""
      ]
    },
    {
      "cell_type": "markdown",
      "metadata": {
        "id": "pJfK0qwov_Np"
      },
      "source": [
        "## PROBLEM STATEMENT:\n",
        "\n",
        "Breast cancer is one of the most common types of cancer among women worldwide. Early detection and accurate diagnosis are crucial for effective treatment and improving survival rates. This project aims to develop and compare the performance of various machine learning algorithms to classify breast cancer tumors as either malignant or benign. The algorithms include Decision Tree, Random Forest, Support Vector Machine (SVM), Kernel SVM, and Naive Bayes.\n",
        "\n",
        "The goal is to identify the most effective model for accurate classification, providing insights into the strengths and weaknesses of each algorithm. This will assist medical practitioners in making informed decisions based on the predictions of the models"
      ]
    },
    {
      "cell_type": "markdown",
      "metadata": {
        "id": "1s3_W8rWxm67"
      },
      "source": [
        "About Dataset\n",
        "Description:\n",
        "Breast cancer is the most common cancer amongst women in the world. It accounts for 25% of all cancer cases, and affected over 2.1 Million people in 2015 alone. It starts when cells in the breast begin to grow out of control. These cells usually form tumors that can be seen via X-ray or felt as lumps in the breast area.\n",
        "\n",
        "The key challenges against it’s detection is how to classify tumors into malignant (cancerous) or benign(non cancerous). We ask you to complete the analysis of classifying these tumors using machine learning (with SVMs) and the Breast Cancer Wisconsin (Diagnostic) Dataset.\n",
        "\n",
        "Acknowledgements:\n",
        "This dataset has been referred from Kaggle.\n",
        "\n",
        "Objective:\n",
        "Understand the Dataset & cleanup (if required).\n",
        "Build classification models to predict whether the cancer type is Malignant or Benign.\n",
        "Also fine-tune the hyperparameters & compare the evaluation metrics of various classification algorithms."
      ]
    },
    {
      "cell_type": "markdown",
      "metadata": {
        "id": "PkM24h0VxsxH"
      },
      "source": [
        "#About Dataset\n",
        "#Description:\n",
        "Breast cancer is the most common cancer amongst women in the world. It accounts for 25% of all cancer cases, and affected over 2.1 Million people in 2015 alone. It starts when cells in the breast begin to grow out of control. These cells usually form tumors that can be seen via X-ray or felt as lumps in the breast area.\n",
        "\n",
        "The key challenges against it’s detection is how to classify tumors into malignant (cancerous) or benign(non cancerous). We ask you to complete the analysis of classifying these tumors using machine learning (with SVMs) and the Breast Cancer Wisconsin (Diagnostic) Dataset.\n",
        "\n",
        "Acknowledgements:\n",
        "This dataset has been referred from Kaggle.\n",
        "\n",
        "Objective:\n",
        "Understand the Dataset & cleanup (if required).\n",
        "Build classification models to predict whether the cancer type is Malignant or Benign.\n",
        "Also fine-tune the hyperparameters & compare the evaluation metrics of various classification algorithms."
      ]
    },
    {
      "cell_type": "markdown",
      "metadata": {
        "id": "_rJocZ8Xx5ZK"
      },
      "source": [
        "#Project metholodology"
      ]
    },
    {
      "cell_type": "markdown",
      "metadata": {
        "id": "-gLV4ZloyTOS"
      },
      "source": [
        "## Step no-1: Import Dependencies"
      ]
    },
    {
      "cell_type": "code",
      "execution_count": null,
      "metadata": {
        "id": "Dpfoe-aCwIo_"
      },
      "outputs": [],
      "source": [
        "import numpy as np\n",
        "import pandas as pd\n",
        "import matplotlib.pyplot as plt\n",
        "import seaborn as sns\n",
        "from sklearn.model_selection import train_test_split\n",
        "from sklearn.preprocessing import StandardScaler\n",
        "from sklearn.metrics import classification_report, confusion_matrix, accuracy_score\n",
        "df=pd.read_csv(\"breast-cancer.csv\")"
      ]
    },
    {
      "cell_type": "markdown",
      "metadata": {
        "id": "VzrjjGAp12Hv"
      },
      "source": [
        "##Step No-2: Apply EDA"
      ]
    },
    {
      "cell_type": "code",
      "execution_count": null,
      "metadata": {
        "colab": {
          "base_uri": "https://localhost:8080/",
          "height": 1000
        },
        "id": "OptbFpEMvuKO",
        "outputId": "f85c457d-89ca-44b3-9fc2-58f21065ed0d"
      },
      "outputs": [
        {
          "output_type": "stream",
          "name": "stdout",
          "text": [
            "<class 'pandas.core.frame.DataFrame'>\n",
            "RangeIndex: 569 entries, 0 to 568\n",
            "Data columns (total 32 columns):\n",
            " #   Column                   Non-Null Count  Dtype  \n",
            "---  ------                   --------------  -----  \n",
            " 0   id                       569 non-null    int64  \n",
            " 1   diagnosis                569 non-null    object \n",
            " 2   radius_mean              569 non-null    float64\n",
            " 3   texture_mean             569 non-null    float64\n",
            " 4   perimeter_mean           569 non-null    float64\n",
            " 5   area_mean                569 non-null    float64\n",
            " 6   smoothness_mean          569 non-null    float64\n",
            " 7   compactness_mean         569 non-null    float64\n",
            " 8   concavity_mean           569 non-null    float64\n",
            " 9   concave points_mean      569 non-null    float64\n",
            " 10  symmetry_mean            569 non-null    float64\n",
            " 11  fractal_dimension_mean   569 non-null    float64\n",
            " 12  radius_se                569 non-null    float64\n",
            " 13  texture_se               569 non-null    float64\n",
            " 14  perimeter_se             569 non-null    float64\n",
            " 15  area_se                  569 non-null    float64\n",
            " 16  smoothness_se            569 non-null    float64\n",
            " 17  compactness_se           569 non-null    float64\n",
            " 18  concavity_se             569 non-null    float64\n",
            " 19  concave points_se        569 non-null    float64\n",
            " 20  symmetry_se              569 non-null    float64\n",
            " 21  fractal_dimension_se     569 non-null    float64\n",
            " 22  radius_worst             569 non-null    float64\n",
            " 23  texture_worst            569 non-null    float64\n",
            " 24  perimeter_worst          569 non-null    float64\n",
            " 25  area_worst               569 non-null    float64\n",
            " 26  smoothness_worst         569 non-null    float64\n",
            " 27  compactness_worst        569 non-null    float64\n",
            " 28  concavity_worst          569 non-null    float64\n",
            " 29  concave points_worst     569 non-null    float64\n",
            " 30  symmetry_worst           569 non-null    float64\n",
            " 31  fractal_dimension_worst  569 non-null    float64\n",
            "dtypes: float64(30), int64(1), object(1)\n",
            "memory usage: 142.4+ KB\n"
          ]
        },
        {
          "output_type": "execute_result",
          "data": {
            "text/plain": [
              "                 id  radius_mean  texture_mean  perimeter_mean    area_mean  \\\n",
              "count  5.690000e+02   569.000000    569.000000      569.000000   569.000000   \n",
              "mean   3.037183e+07    14.127292     19.289649       91.969033   654.889104   \n",
              "std    1.250206e+08     3.524049      4.301036       24.298981   351.914129   \n",
              "min    8.670000e+03     6.981000      9.710000       43.790000   143.500000   \n",
              "25%    8.692180e+05    11.700000     16.170000       75.170000   420.300000   \n",
              "50%    9.060240e+05    13.370000     18.840000       86.240000   551.100000   \n",
              "75%    8.813129e+06    15.780000     21.800000      104.100000   782.700000   \n",
              "max    9.113205e+08    28.110000     39.280000      188.500000  2501.000000   \n",
              "\n",
              "       smoothness_mean  compactness_mean  concavity_mean  concave points_mean  \\\n",
              "count       569.000000        569.000000      569.000000           569.000000   \n",
              "mean          0.096360          0.104341        0.088799             0.048919   \n",
              "std           0.014064          0.052813        0.079720             0.038803   \n",
              "min           0.052630          0.019380        0.000000             0.000000   \n",
              "25%           0.086370          0.064920        0.029560             0.020310   \n",
              "50%           0.095870          0.092630        0.061540             0.033500   \n",
              "75%           0.105300          0.130400        0.130700             0.074000   \n",
              "max           0.163400          0.345400        0.426800             0.201200   \n",
              "\n",
              "       symmetry_mean  ...  radius_worst  texture_worst  perimeter_worst  \\\n",
              "count     569.000000  ...    569.000000     569.000000       569.000000   \n",
              "mean        0.181162  ...     16.269190      25.677223       107.261213   \n",
              "std         0.027414  ...      4.833242       6.146258        33.602542   \n",
              "min         0.106000  ...      7.930000      12.020000        50.410000   \n",
              "25%         0.161900  ...     13.010000      21.080000        84.110000   \n",
              "50%         0.179200  ...     14.970000      25.410000        97.660000   \n",
              "75%         0.195700  ...     18.790000      29.720000       125.400000   \n",
              "max         0.304000  ...     36.040000      49.540000       251.200000   \n",
              "\n",
              "        area_worst  smoothness_worst  compactness_worst  concavity_worst  \\\n",
              "count   569.000000        569.000000         569.000000       569.000000   \n",
              "mean    880.583128          0.132369           0.254265         0.272188   \n",
              "std     569.356993          0.022832           0.157336         0.208624   \n",
              "min     185.200000          0.071170           0.027290         0.000000   \n",
              "25%     515.300000          0.116600           0.147200         0.114500   \n",
              "50%     686.500000          0.131300           0.211900         0.226700   \n",
              "75%    1084.000000          0.146000           0.339100         0.382900   \n",
              "max    4254.000000          0.222600           1.058000         1.252000   \n",
              "\n",
              "       concave points_worst  symmetry_worst  fractal_dimension_worst  \n",
              "count            569.000000      569.000000               569.000000  \n",
              "mean               0.114606        0.290076                 0.083946  \n",
              "std                0.065732        0.061867                 0.018061  \n",
              "min                0.000000        0.156500                 0.055040  \n",
              "25%                0.064930        0.250400                 0.071460  \n",
              "50%                0.099930        0.282200                 0.080040  \n",
              "75%                0.161400        0.317900                 0.092080  \n",
              "max                0.291000        0.663800                 0.207500  \n",
              "\n",
              "[8 rows x 31 columns]"
            ],
            "text/html": [
              "\n",
              "  <div id=\"df-124b00eb-0d91-4571-bd2d-a9ac98ecc8fe\" class=\"colab-df-container\">\n",
              "    <div>\n",
              "<style scoped>\n",
              "    .dataframe tbody tr th:only-of-type {\n",
              "        vertical-align: middle;\n",
              "    }\n",
              "\n",
              "    .dataframe tbody tr th {\n",
              "        vertical-align: top;\n",
              "    }\n",
              "\n",
              "    .dataframe thead th {\n",
              "        text-align: right;\n",
              "    }\n",
              "</style>\n",
              "<table border=\"1\" class=\"dataframe\">\n",
              "  <thead>\n",
              "    <tr style=\"text-align: right;\">\n",
              "      <th></th>\n",
              "      <th>id</th>\n",
              "      <th>radius_mean</th>\n",
              "      <th>texture_mean</th>\n",
              "      <th>perimeter_mean</th>\n",
              "      <th>area_mean</th>\n",
              "      <th>smoothness_mean</th>\n",
              "      <th>compactness_mean</th>\n",
              "      <th>concavity_mean</th>\n",
              "      <th>concave points_mean</th>\n",
              "      <th>symmetry_mean</th>\n",
              "      <th>...</th>\n",
              "      <th>radius_worst</th>\n",
              "      <th>texture_worst</th>\n",
              "      <th>perimeter_worst</th>\n",
              "      <th>area_worst</th>\n",
              "      <th>smoothness_worst</th>\n",
              "      <th>compactness_worst</th>\n",
              "      <th>concavity_worst</th>\n",
              "      <th>concave points_worst</th>\n",
              "      <th>symmetry_worst</th>\n",
              "      <th>fractal_dimension_worst</th>\n",
              "    </tr>\n",
              "  </thead>\n",
              "  <tbody>\n",
              "    <tr>\n",
              "      <th>count</th>\n",
              "      <td>5.690000e+02</td>\n",
              "      <td>569.000000</td>\n",
              "      <td>569.000000</td>\n",
              "      <td>569.000000</td>\n",
              "      <td>569.000000</td>\n",
              "      <td>569.000000</td>\n",
              "      <td>569.000000</td>\n",
              "      <td>569.000000</td>\n",
              "      <td>569.000000</td>\n",
              "      <td>569.000000</td>\n",
              "      <td>...</td>\n",
              "      <td>569.000000</td>\n",
              "      <td>569.000000</td>\n",
              "      <td>569.000000</td>\n",
              "      <td>569.000000</td>\n",
              "      <td>569.000000</td>\n",
              "      <td>569.000000</td>\n",
              "      <td>569.000000</td>\n",
              "      <td>569.000000</td>\n",
              "      <td>569.000000</td>\n",
              "      <td>569.000000</td>\n",
              "    </tr>\n",
              "    <tr>\n",
              "      <th>mean</th>\n",
              "      <td>3.037183e+07</td>\n",
              "      <td>14.127292</td>\n",
              "      <td>19.289649</td>\n",
              "      <td>91.969033</td>\n",
              "      <td>654.889104</td>\n",
              "      <td>0.096360</td>\n",
              "      <td>0.104341</td>\n",
              "      <td>0.088799</td>\n",
              "      <td>0.048919</td>\n",
              "      <td>0.181162</td>\n",
              "      <td>...</td>\n",
              "      <td>16.269190</td>\n",
              "      <td>25.677223</td>\n",
              "      <td>107.261213</td>\n",
              "      <td>880.583128</td>\n",
              "      <td>0.132369</td>\n",
              "      <td>0.254265</td>\n",
              "      <td>0.272188</td>\n",
              "      <td>0.114606</td>\n",
              "      <td>0.290076</td>\n",
              "      <td>0.083946</td>\n",
              "    </tr>\n",
              "    <tr>\n",
              "      <th>std</th>\n",
              "      <td>1.250206e+08</td>\n",
              "      <td>3.524049</td>\n",
              "      <td>4.301036</td>\n",
              "      <td>24.298981</td>\n",
              "      <td>351.914129</td>\n",
              "      <td>0.014064</td>\n",
              "      <td>0.052813</td>\n",
              "      <td>0.079720</td>\n",
              "      <td>0.038803</td>\n",
              "      <td>0.027414</td>\n",
              "      <td>...</td>\n",
              "      <td>4.833242</td>\n",
              "      <td>6.146258</td>\n",
              "      <td>33.602542</td>\n",
              "      <td>569.356993</td>\n",
              "      <td>0.022832</td>\n",
              "      <td>0.157336</td>\n",
              "      <td>0.208624</td>\n",
              "      <td>0.065732</td>\n",
              "      <td>0.061867</td>\n",
              "      <td>0.018061</td>\n",
              "    </tr>\n",
              "    <tr>\n",
              "      <th>min</th>\n",
              "      <td>8.670000e+03</td>\n",
              "      <td>6.981000</td>\n",
              "      <td>9.710000</td>\n",
              "      <td>43.790000</td>\n",
              "      <td>143.500000</td>\n",
              "      <td>0.052630</td>\n",
              "      <td>0.019380</td>\n",
              "      <td>0.000000</td>\n",
              "      <td>0.000000</td>\n",
              "      <td>0.106000</td>\n",
              "      <td>...</td>\n",
              "      <td>7.930000</td>\n",
              "      <td>12.020000</td>\n",
              "      <td>50.410000</td>\n",
              "      <td>185.200000</td>\n",
              "      <td>0.071170</td>\n",
              "      <td>0.027290</td>\n",
              "      <td>0.000000</td>\n",
              "      <td>0.000000</td>\n",
              "      <td>0.156500</td>\n",
              "      <td>0.055040</td>\n",
              "    </tr>\n",
              "    <tr>\n",
              "      <th>25%</th>\n",
              "      <td>8.692180e+05</td>\n",
              "      <td>11.700000</td>\n",
              "      <td>16.170000</td>\n",
              "      <td>75.170000</td>\n",
              "      <td>420.300000</td>\n",
              "      <td>0.086370</td>\n",
              "      <td>0.064920</td>\n",
              "      <td>0.029560</td>\n",
              "      <td>0.020310</td>\n",
              "      <td>0.161900</td>\n",
              "      <td>...</td>\n",
              "      <td>13.010000</td>\n",
              "      <td>21.080000</td>\n",
              "      <td>84.110000</td>\n",
              "      <td>515.300000</td>\n",
              "      <td>0.116600</td>\n",
              "      <td>0.147200</td>\n",
              "      <td>0.114500</td>\n",
              "      <td>0.064930</td>\n",
              "      <td>0.250400</td>\n",
              "      <td>0.071460</td>\n",
              "    </tr>\n",
              "    <tr>\n",
              "      <th>50%</th>\n",
              "      <td>9.060240e+05</td>\n",
              "      <td>13.370000</td>\n",
              "      <td>18.840000</td>\n",
              "      <td>86.240000</td>\n",
              "      <td>551.100000</td>\n",
              "      <td>0.095870</td>\n",
              "      <td>0.092630</td>\n",
              "      <td>0.061540</td>\n",
              "      <td>0.033500</td>\n",
              "      <td>0.179200</td>\n",
              "      <td>...</td>\n",
              "      <td>14.970000</td>\n",
              "      <td>25.410000</td>\n",
              "      <td>97.660000</td>\n",
              "      <td>686.500000</td>\n",
              "      <td>0.131300</td>\n",
              "      <td>0.211900</td>\n",
              "      <td>0.226700</td>\n",
              "      <td>0.099930</td>\n",
              "      <td>0.282200</td>\n",
              "      <td>0.080040</td>\n",
              "    </tr>\n",
              "    <tr>\n",
              "      <th>75%</th>\n",
              "      <td>8.813129e+06</td>\n",
              "      <td>15.780000</td>\n",
              "      <td>21.800000</td>\n",
              "      <td>104.100000</td>\n",
              "      <td>782.700000</td>\n",
              "      <td>0.105300</td>\n",
              "      <td>0.130400</td>\n",
              "      <td>0.130700</td>\n",
              "      <td>0.074000</td>\n",
              "      <td>0.195700</td>\n",
              "      <td>...</td>\n",
              "      <td>18.790000</td>\n",
              "      <td>29.720000</td>\n",
              "      <td>125.400000</td>\n",
              "      <td>1084.000000</td>\n",
              "      <td>0.146000</td>\n",
              "      <td>0.339100</td>\n",
              "      <td>0.382900</td>\n",
              "      <td>0.161400</td>\n",
              "      <td>0.317900</td>\n",
              "      <td>0.092080</td>\n",
              "    </tr>\n",
              "    <tr>\n",
              "      <th>max</th>\n",
              "      <td>9.113205e+08</td>\n",
              "      <td>28.110000</td>\n",
              "      <td>39.280000</td>\n",
              "      <td>188.500000</td>\n",
              "      <td>2501.000000</td>\n",
              "      <td>0.163400</td>\n",
              "      <td>0.345400</td>\n",
              "      <td>0.426800</td>\n",
              "      <td>0.201200</td>\n",
              "      <td>0.304000</td>\n",
              "      <td>...</td>\n",
              "      <td>36.040000</td>\n",
              "      <td>49.540000</td>\n",
              "      <td>251.200000</td>\n",
              "      <td>4254.000000</td>\n",
              "      <td>0.222600</td>\n",
              "      <td>1.058000</td>\n",
              "      <td>1.252000</td>\n",
              "      <td>0.291000</td>\n",
              "      <td>0.663800</td>\n",
              "      <td>0.207500</td>\n",
              "    </tr>\n",
              "  </tbody>\n",
              "</table>\n",
              "<p>8 rows × 31 columns</p>\n",
              "</div>\n",
              "    <div class=\"colab-df-buttons\">\n",
              "\n",
              "  <div class=\"colab-df-container\">\n",
              "    <button class=\"colab-df-convert\" onclick=\"convertToInteractive('df-124b00eb-0d91-4571-bd2d-a9ac98ecc8fe')\"\n",
              "            title=\"Convert this dataframe to an interactive table.\"\n",
              "            style=\"display:none;\">\n",
              "\n",
              "  <svg xmlns=\"http://www.w3.org/2000/svg\" height=\"24px\" viewBox=\"0 -960 960 960\">\n",
              "    <path d=\"M120-120v-720h720v720H120Zm60-500h600v-160H180v160Zm220 220h160v-160H400v160Zm0 220h160v-160H400v160ZM180-400h160v-160H180v160Zm440 0h160v-160H620v160ZM180-180h160v-160H180v160Zm440 0h160v-160H620v160Z\"/>\n",
              "  </svg>\n",
              "    </button>\n",
              "\n",
              "  <style>\n",
              "    .colab-df-container {\n",
              "      display:flex;\n",
              "      gap: 12px;\n",
              "    }\n",
              "\n",
              "    .colab-df-convert {\n",
              "      background-color: #E8F0FE;\n",
              "      border: none;\n",
              "      border-radius: 50%;\n",
              "      cursor: pointer;\n",
              "      display: none;\n",
              "      fill: #1967D2;\n",
              "      height: 32px;\n",
              "      padding: 0 0 0 0;\n",
              "      width: 32px;\n",
              "    }\n",
              "\n",
              "    .colab-df-convert:hover {\n",
              "      background-color: #E2EBFA;\n",
              "      box-shadow: 0px 1px 2px rgba(60, 64, 67, 0.3), 0px 1px 3px 1px rgba(60, 64, 67, 0.15);\n",
              "      fill: #174EA6;\n",
              "    }\n",
              "\n",
              "    .colab-df-buttons div {\n",
              "      margin-bottom: 4px;\n",
              "    }\n",
              "\n",
              "    [theme=dark] .colab-df-convert {\n",
              "      background-color: #3B4455;\n",
              "      fill: #D2E3FC;\n",
              "    }\n",
              "\n",
              "    [theme=dark] .colab-df-convert:hover {\n",
              "      background-color: #434B5C;\n",
              "      box-shadow: 0px 1px 3px 1px rgba(0, 0, 0, 0.15);\n",
              "      filter: drop-shadow(0px 1px 2px rgba(0, 0, 0, 0.3));\n",
              "      fill: #FFFFFF;\n",
              "    }\n",
              "  </style>\n",
              "\n",
              "    <script>\n",
              "      const buttonEl =\n",
              "        document.querySelector('#df-124b00eb-0d91-4571-bd2d-a9ac98ecc8fe button.colab-df-convert');\n",
              "      buttonEl.style.display =\n",
              "        google.colab.kernel.accessAllowed ? 'block' : 'none';\n",
              "\n",
              "      async function convertToInteractive(key) {\n",
              "        const element = document.querySelector('#df-124b00eb-0d91-4571-bd2d-a9ac98ecc8fe');\n",
              "        const dataTable =\n",
              "          await google.colab.kernel.invokeFunction('convertToInteractive',\n",
              "                                                    [key], {});\n",
              "        if (!dataTable) return;\n",
              "\n",
              "        const docLinkHtml = 'Like what you see? Visit the ' +\n",
              "          '<a target=\"_blank\" href=https://colab.research.google.com/notebooks/data_table.ipynb>data table notebook</a>'\n",
              "          + ' to learn more about interactive tables.';\n",
              "        element.innerHTML = '';\n",
              "        dataTable['output_type'] = 'display_data';\n",
              "        await google.colab.output.renderOutput(dataTable, element);\n",
              "        const docLink = document.createElement('div');\n",
              "        docLink.innerHTML = docLinkHtml;\n",
              "        element.appendChild(docLink);\n",
              "      }\n",
              "    </script>\n",
              "  </div>\n",
              "\n",
              "\n",
              "    <div id=\"df-880b227f-b698-4d00-9611-8ec6eaa161a7\">\n",
              "      <button class=\"colab-df-quickchart\" onclick=\"quickchart('df-880b227f-b698-4d00-9611-8ec6eaa161a7')\"\n",
              "                title=\"Suggest charts\"\n",
              "                style=\"display:none;\">\n",
              "\n",
              "<svg xmlns=\"http://www.w3.org/2000/svg\" height=\"24px\"viewBox=\"0 0 24 24\"\n",
              "     width=\"24px\">\n",
              "    <g>\n",
              "        <path d=\"M19 3H5c-1.1 0-2 .9-2 2v14c0 1.1.9 2 2 2h14c1.1 0 2-.9 2-2V5c0-1.1-.9-2-2-2zM9 17H7v-7h2v7zm4 0h-2V7h2v10zm4 0h-2v-4h2v4z\"/>\n",
              "    </g>\n",
              "</svg>\n",
              "      </button>\n",
              "\n",
              "<style>\n",
              "  .colab-df-quickchart {\n",
              "      --bg-color: #E8F0FE;\n",
              "      --fill-color: #1967D2;\n",
              "      --hover-bg-color: #E2EBFA;\n",
              "      --hover-fill-color: #174EA6;\n",
              "      --disabled-fill-color: #AAA;\n",
              "      --disabled-bg-color: #DDD;\n",
              "  }\n",
              "\n",
              "  [theme=dark] .colab-df-quickchart {\n",
              "      --bg-color: #3B4455;\n",
              "      --fill-color: #D2E3FC;\n",
              "      --hover-bg-color: #434B5C;\n",
              "      --hover-fill-color: #FFFFFF;\n",
              "      --disabled-bg-color: #3B4455;\n",
              "      --disabled-fill-color: #666;\n",
              "  }\n",
              "\n",
              "  .colab-df-quickchart {\n",
              "    background-color: var(--bg-color);\n",
              "    border: none;\n",
              "    border-radius: 50%;\n",
              "    cursor: pointer;\n",
              "    display: none;\n",
              "    fill: var(--fill-color);\n",
              "    height: 32px;\n",
              "    padding: 0;\n",
              "    width: 32px;\n",
              "  }\n",
              "\n",
              "  .colab-df-quickchart:hover {\n",
              "    background-color: var(--hover-bg-color);\n",
              "    box-shadow: 0 1px 2px rgba(60, 64, 67, 0.3), 0 1px 3px 1px rgba(60, 64, 67, 0.15);\n",
              "    fill: var(--button-hover-fill-color);\n",
              "  }\n",
              "\n",
              "  .colab-df-quickchart-complete:disabled,\n",
              "  .colab-df-quickchart-complete:disabled:hover {\n",
              "    background-color: var(--disabled-bg-color);\n",
              "    fill: var(--disabled-fill-color);\n",
              "    box-shadow: none;\n",
              "  }\n",
              "\n",
              "  .colab-df-spinner {\n",
              "    border: 2px solid var(--fill-color);\n",
              "    border-color: transparent;\n",
              "    border-bottom-color: var(--fill-color);\n",
              "    animation:\n",
              "      spin 1s steps(1) infinite;\n",
              "  }\n",
              "\n",
              "  @keyframes spin {\n",
              "    0% {\n",
              "      border-color: transparent;\n",
              "      border-bottom-color: var(--fill-color);\n",
              "      border-left-color: var(--fill-color);\n",
              "    }\n",
              "    20% {\n",
              "      border-color: transparent;\n",
              "      border-left-color: var(--fill-color);\n",
              "      border-top-color: var(--fill-color);\n",
              "    }\n",
              "    30% {\n",
              "      border-color: transparent;\n",
              "      border-left-color: var(--fill-color);\n",
              "      border-top-color: var(--fill-color);\n",
              "      border-right-color: var(--fill-color);\n",
              "    }\n",
              "    40% {\n",
              "      border-color: transparent;\n",
              "      border-right-color: var(--fill-color);\n",
              "      border-top-color: var(--fill-color);\n",
              "    }\n",
              "    60% {\n",
              "      border-color: transparent;\n",
              "      border-right-color: var(--fill-color);\n",
              "    }\n",
              "    80% {\n",
              "      border-color: transparent;\n",
              "      border-right-color: var(--fill-color);\n",
              "      border-bottom-color: var(--fill-color);\n",
              "    }\n",
              "    90% {\n",
              "      border-color: transparent;\n",
              "      border-bottom-color: var(--fill-color);\n",
              "    }\n",
              "  }\n",
              "</style>\n",
              "\n",
              "      <script>\n",
              "        async function quickchart(key) {\n",
              "          const quickchartButtonEl =\n",
              "            document.querySelector('#' + key + ' button');\n",
              "          quickchartButtonEl.disabled = true;  // To prevent multiple clicks.\n",
              "          quickchartButtonEl.classList.add('colab-df-spinner');\n",
              "          try {\n",
              "            const charts = await google.colab.kernel.invokeFunction(\n",
              "                'suggestCharts', [key], {});\n",
              "          } catch (error) {\n",
              "            console.error('Error during call to suggestCharts:', error);\n",
              "          }\n",
              "          quickchartButtonEl.classList.remove('colab-df-spinner');\n",
              "          quickchartButtonEl.classList.add('colab-df-quickchart-complete');\n",
              "        }\n",
              "        (() => {\n",
              "          let quickchartButtonEl =\n",
              "            document.querySelector('#df-880b227f-b698-4d00-9611-8ec6eaa161a7 button');\n",
              "          quickchartButtonEl.style.display =\n",
              "            google.colab.kernel.accessAllowed ? 'block' : 'none';\n",
              "        })();\n",
              "      </script>\n",
              "    </div>\n",
              "\n",
              "    </div>\n",
              "  </div>\n"
            ],
            "application/vnd.google.colaboratory.intrinsic+json": {
              "type": "dataframe"
            }
          },
          "metadata": {},
          "execution_count": 2
        }
      ],
      "source": [
        "#Apply EDA\n",
        "df.shape\n",
        "df.info()\n",
        "df.isna()\n",
        "df.describe()"
      ]
    },
    {
      "cell_type": "markdown",
      "metadata": {
        "id": "MseKl3rS0YTP"
      },
      "source": [
        "    ## There is no any dataset kind of Byasness"
      ]
    },
    {
      "cell_type": "markdown",
      "metadata": {
        "id": "KGq4Fk43093u"
      },
      "source": [
        "##Step no-3: Label Encoding"
      ]
    },
    {
      "cell_type": "code",
      "execution_count": null,
      "metadata": {
        "id": "ESemFbVF1HUq"
      },
      "outputs": [],
      "source": [
        "df[\"diagnosis\"]=df[\"diagnosis\"].map({\"M\":1, \"B\":0})\n",
        "x=df.drop(columns=[\"diagnosis\",\"id\"])\n",
        "y=df[\"diagnosis\"]\n"
      ]
    },
    {
      "cell_type": "markdown",
      "metadata": {
        "id": "VQUUzx8a3AsA"
      },
      "source": [
        "#Step no- 4: train_test_split"
      ]
    },
    {
      "cell_type": "code",
      "execution_count": null,
      "metadata": {
        "id": "yVPzOQIW3RlE"
      },
      "outputs": [],
      "source": [
        "# train_test_`split\n",
        "\n",
        "x_train,x_test, y_train, y_test= train_test_split(x,y,test_size=0.2,random_state=42)\n",
        "sc=StandardScaler()\n",
        "x_train=sc.fit_transform(x_train)\n",
        "x_test=sc.transform(x_test)"
      ]
    },
    {
      "cell_type": "markdown",
      "metadata": {
        "id": "7A7GGxxs6KVm"
      },
      "source": [
        "## Step no-5:  Apply various dataset algorithm"
      ]
    },
    {
      "cell_type": "markdown",
      "metadata": {
        "id": "XG55QGyG6zHB"
      },
      "source": [
        "1. Dicision Tree"
      ]
    },
    {
      "cell_type": "code",
      "execution_count": null,
      "metadata": {
        "id": "XVwGnOwi6N2-",
        "colab": {
          "base_uri": "https://localhost:8080/"
        },
        "outputId": "eafb364f-347d-48ec-e9f4-a0d44eed5ad6"
      },
      "outputs": [
        {
          "output_type": "stream",
          "name": "stdout",
          "text": [
            "classification report               precision    recall  f1-score   support\n",
            "\n",
            "           0       0.94      0.94      0.94        71\n",
            "           1       0.91      0.91      0.91        43\n",
            "\n",
            "    accuracy                           0.93       114\n",
            "   macro avg       0.93      0.93      0.93       114\n",
            "weighted avg       0.93      0.93      0.93       114\n",
            "\n",
            "confusion matrix [[67  4]\n",
            " [ 4 39]]\n",
            "accuracy 0.9298245614035088\n"
          ]
        }
      ],
      "source": [
        "from sklearn.tree import DecisionTreeClassifier\n",
        "model=DecisionTreeClassifier(random_state=41)\n",
        "model.fit(x_train,y_train)\n",
        "y_pred=model.predict(x_test)\n",
        "print(\"classification report\",classification_report(y_test,y_pred))\n",
        "print(\"confusion matrix\",confusion_matrix(y_test,y_pred))\n",
        "print(f\"accuracy {accuracy_score(y_test, y_pred)}\")"
      ]
    },
    {
      "cell_type": "markdown",
      "metadata": {
        "id": "nMZlJPSp9A8y"
      },
      "source": [
        "2. random Forest"
      ]
    },
    {
      "cell_type": "code",
      "execution_count": null,
      "metadata": {
        "id": "lAsWMsJT9sNB",
        "colab": {
          "base_uri": "https://localhost:8080/"
        },
        "outputId": "ed8e38f8-acdd-4e00-a278-c05d43bf05c4"
      },
      "outputs": [
        {
          "output_type": "stream",
          "name": "stdout",
          "text": [
            "classification report               precision    recall  f1-score   support\n",
            "\n",
            "           0       0.96      0.97      0.97        71\n",
            "           1       0.95      0.93      0.94        43\n",
            "\n",
            "    accuracy                           0.96       114\n",
            "   macro avg       0.96      0.95      0.95       114\n",
            "weighted avg       0.96      0.96      0.96       114\n",
            "\n",
            "confusion matrix [[69  2]\n",
            " [ 3 40]]\n",
            "accuracy 0.956140350877193\n"
          ]
        }
      ],
      "source": [
        "from sklearn.ensemble import RandomForestClassifier\n",
        "rnd_for= RandomForestClassifier(random_state=101)\n",
        "\n",
        "rnd_for.fit(x_train,y_train)\n",
        "y_pred=rnd_for.predict(x_test)\n",
        "print(\"classification report\",classification_report(y_test,y_pred))\n",
        "print(\"confusion matrix\",confusion_matrix(y_test,y_pred))\n",
        "print(f\"accuracy {accuracy_score(y_test, y_pred)}\")"
      ]
    },
    {
      "cell_type": "markdown",
      "metadata": {
        "id": "lkl0NQhEAgOH"
      },
      "source": [
        "3. SVM"
      ]
    },
    {
      "cell_type": "code",
      "execution_count": null,
      "metadata": {
        "colab": {
          "base_uri": "https://localhost:8080/"
        },
        "id": "O-Ubd0oxAimM",
        "outputId": "32560f14-c615-4c22-dfda-be4a8f707fb3"
      },
      "outputs": [
        {
          "output_type": "stream",
          "name": "stdout",
          "text": [
            "classification report               precision    recall  f1-score   support\n",
            "\n",
            "           0       0.96      0.97      0.97        71\n",
            "           1       0.95      0.93      0.94        43\n",
            "\n",
            "    accuracy                           0.96       114\n",
            "   macro avg       0.96      0.95      0.95       114\n",
            "weighted avg       0.96      0.96      0.96       114\n",
            "\n",
            "confusion matrix [[69  2]\n",
            " [ 3 40]]\n",
            "accuracy 0.956140350877193\n"
          ]
        }
      ],
      "source": [
        "from sklearn.svm import SVC\n",
        "svm_mod=SVC(kernel=\"linear\", random_state=101)\n",
        "svm_mod.fit(x_train,y_train)\n",
        "svm_prd= svm_mod.predict(x_test)\n",
        "print(\"classification report\",classification_report(y_test,y_pred))\n",
        "print(\"confusion matrix\",confusion_matrix(y_test,y_pred))\n",
        "print(f\"accuracy {accuracy_score(y_test, y_pred)}\")"
      ]
    },
    {
      "cell_type": "markdown",
      "source": [
        "4. Naive Byes"
      ],
      "metadata": {
        "id": "cS4SdMhVYQfA"
      }
    },
    {
      "cell_type": "code",
      "source": [
        "from sklearn.naive_bayes import GaussianNB\n",
        "\n",
        "# Initialize and train the Naive Bayes model\n",
        "nb_model = GaussianNB()\n",
        "nb_model.fit(x_train, y_train)\n",
        "\n",
        "# Make predictions on the test data\n",
        "nb_predictions = nb_model.predict(x_test)\n",
        "\n",
        "# Evaluate the model\n",
        "print(\"Naive Bayes\")\n",
        "print(\"Accuracy:\", accuracy_score(y_test, nb_predictions))\n",
        "print(\"Confusion Matrix:\\n\", confusion_matrix(y_test, nb_predictions))\n",
        "print(\"Classification Report:\\n\", classification_report(y_test, nb_predictions))"
      ],
      "metadata": {
        "colab": {
          "base_uri": "https://localhost:8080/"
        },
        "id": "EfPqa5owYVDa",
        "outputId": "e688dd49-96f9-48ac-d581-cd0b3e64db69"
      },
      "execution_count": null,
      "outputs": [
        {
          "output_type": "stream",
          "name": "stdout",
          "text": [
            "Naive Bayes\n",
            "Accuracy: 0.9649122807017544\n",
            "Confusion Matrix:\n",
            " [[70  1]\n",
            " [ 3 40]]\n",
            "Classification Report:\n",
            "               precision    recall  f1-score   support\n",
            "\n",
            "           0       0.96      0.99      0.97        71\n",
            "           1       0.98      0.93      0.95        43\n",
            "\n",
            "    accuracy                           0.96       114\n",
            "   macro avg       0.97      0.96      0.96       114\n",
            "weighted avg       0.97      0.96      0.96       114\n",
            "\n"
          ]
        }
      ]
    },
    {
      "cell_type": "markdown",
      "source": [
        "## Step no- 6: Conclusion\n",
        "## As per the the0ritical and mathmatical prediction found that Naive bayes  give me high accuracy.\n"
      ],
      "metadata": {
        "id": "sM_tb0LnZDKi"
      }
    },
    {
      "cell_type": "markdown",
      "source": [
        "![image.png](data:image/png;base64,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)"
      ],
      "metadata": {
        "id": "A0Iv59O4aTUt"
      }
    },
    {
      "cell_type": "markdown",
      "source": [
        "## Step n0- 7:   Hyper Paramater Tuning"
      ],
      "metadata": {
        "id": "couKjqkBbkZB"
      }
    },
    {
      "cell_type": "markdown",
      "source": [
        "Result"
      ],
      "metadata": {
        "id": "pcC9yz6HbzgR"
      }
    },
    {
      "cell_type": "code",
      "source": [
        "from sklearn.model_selection import GridSearchCV\n",
        "from sklearn.svm import SVC\n",
        "\n",
        "# Define the parameter grid\n",
        "param_grid = {\n",
        "    'C': [0.1, 1, 10, 100],\n",
        "    'gamma': [1, 0.1, 0.01, 0.001],\n",
        "    'kernel': ['rbf']\n",
        "}\n",
        "\n",
        "# Initialize the SVM model\n",
        "svm_model = SVC(random_state=101)\n",
        "\n",
        "# Perform grid search\n",
        "grid_search = GridSearchCV(svm_model, param_grid, refit=True, verbose=2)\n",
        "grid_search.fit(x_train, y_train)\n",
        "\n",
        "# Get the best parameters and estimator\n",
        "print(\"Best Parameters:\", grid_search.best_params_)\n",
        "best_svm_model = grid_search.best_estimator_\n",
        "\n",
        "# Make predictions on the test data\n",
        "best_svm_predictions = best_svm_model.predict(x_test)\n",
        "\n",
        "# Evaluate the model\n",
        "print(\"Best SVM Accuracy:\", accuracy_score(y_test, best_svm_predictions))\n",
        "print(\"Confusion Matrix:\\n\", confusion_matrix(y_test, best_svm_predictions))\n",
        "print(\"Classification Report:\\n\", classification_report(y_test, best_svm_predictions))\n"
      ],
      "metadata": {
        "colab": {
          "base_uri": "https://localhost:8080/"
        },
        "id": "xL4R3FgbY76u",
        "outputId": "3ba8e40a-1afb-4b74-bda5-98b2b3809eed"
      },
      "execution_count": null,
      "outputs": [
        {
          "output_type": "stream",
          "name": "stdout",
          "text": [
            "Fitting 5 folds for each of 16 candidates, totalling 80 fits\n",
            "[CV] END .........................C=0.1, gamma=1, kernel=rbf; total time=   0.0s\n",
            "[CV] END .........................C=0.1, gamma=1, kernel=rbf; total time=   0.0s\n",
            "[CV] END .........................C=0.1, gamma=1, kernel=rbf; total time=   0.0s\n",
            "[CV] END .........................C=0.1, gamma=1, kernel=rbf; total time=   0.0s\n",
            "[CV] END .........................C=0.1, gamma=1, kernel=rbf; total time=   0.0s\n",
            "[CV] END .......................C=0.1, gamma=0.1, kernel=rbf; total time=   0.0s\n",
            "[CV] END .......................C=0.1, gamma=0.1, kernel=rbf; total time=   0.0s\n",
            "[CV] END .......................C=0.1, gamma=0.1, kernel=rbf; total time=   0.0s\n",
            "[CV] END .......................C=0.1, gamma=0.1, kernel=rbf; total time=   0.0s\n",
            "[CV] END .......................C=0.1, gamma=0.1, kernel=rbf; total time=   0.0s\n",
            "[CV] END ......................C=0.1, gamma=0.01, kernel=rbf; total time=   0.0s\n",
            "[CV] END ......................C=0.1, gamma=0.01, kernel=rbf; total time=   0.0s\n",
            "[CV] END ......................C=0.1, gamma=0.01, kernel=rbf; total time=   0.0s\n",
            "[CV] END ......................C=0.1, gamma=0.01, kernel=rbf; total time=   0.0s\n",
            "[CV] END ......................C=0.1, gamma=0.01, kernel=rbf; total time=   0.0s\n",
            "[CV] END .....................C=0.1, gamma=0.001, kernel=rbf; total time=   0.0s\n",
            "[CV] END .....................C=0.1, gamma=0.001, kernel=rbf; total time=   0.0s\n",
            "[CV] END .....................C=0.1, gamma=0.001, kernel=rbf; total time=   0.0s\n",
            "[CV] END .....................C=0.1, gamma=0.001, kernel=rbf; total time=   0.0s\n",
            "[CV] END .....................C=0.1, gamma=0.001, kernel=rbf; total time=   0.0s\n",
            "[CV] END ...........................C=1, gamma=1, kernel=rbf; total time=   0.0s\n",
            "[CV] END ...........................C=1, gamma=1, kernel=rbf; total time=   0.0s\n",
            "[CV] END ...........................C=1, gamma=1, kernel=rbf; total time=   0.0s\n",
            "[CV] END ...........................C=1, gamma=1, kernel=rbf; total time=   0.0s\n",
            "[CV] END ...........................C=1, gamma=1, kernel=rbf; total time=   0.0s\n",
            "[CV] END .........................C=1, gamma=0.1, kernel=rbf; total time=   0.0s\n",
            "[CV] END .........................C=1, gamma=0.1, kernel=rbf; total time=   0.0s\n",
            "[CV] END .........................C=1, gamma=0.1, kernel=rbf; total time=   0.0s\n",
            "[CV] END .........................C=1, gamma=0.1, kernel=rbf; total time=   0.0s\n",
            "[CV] END .........................C=1, gamma=0.1, kernel=rbf; total time=   0.0s\n",
            "[CV] END ........................C=1, gamma=0.01, kernel=rbf; total time=   0.0s\n",
            "[CV] END ........................C=1, gamma=0.01, kernel=rbf; total time=   0.0s\n",
            "[CV] END ........................C=1, gamma=0.01, kernel=rbf; total time=   0.0s\n",
            "[CV] END ........................C=1, gamma=0.01, kernel=rbf; total time=   0.0s\n",
            "[CV] END ........................C=1, gamma=0.01, kernel=rbf; total time=   0.0s\n",
            "[CV] END .......................C=1, gamma=0.001, kernel=rbf; total time=   0.0s\n",
            "[CV] END .......................C=1, gamma=0.001, kernel=rbf; total time=   0.0s\n",
            "[CV] END .......................C=1, gamma=0.001, kernel=rbf; total time=   0.0s\n",
            "[CV] END .......................C=1, gamma=0.001, kernel=rbf; total time=   0.0s\n",
            "[CV] END .......................C=1, gamma=0.001, kernel=rbf; total time=   0.0s\n",
            "[CV] END ..........................C=10, gamma=1, kernel=rbf; total time=   0.0s\n",
            "[CV] END ..........................C=10, gamma=1, kernel=rbf; total time=   0.0s\n",
            "[CV] END ..........................C=10, gamma=1, kernel=rbf; total time=   0.0s\n",
            "[CV] END ..........................C=10, gamma=1, kernel=rbf; total time=   0.0s\n",
            "[CV] END ..........................C=10, gamma=1, kernel=rbf; total time=   0.0s\n",
            "[CV] END ........................C=10, gamma=0.1, kernel=rbf; total time=   0.0s\n",
            "[CV] END ........................C=10, gamma=0.1, kernel=rbf; total time=   0.0s\n",
            "[CV] END ........................C=10, gamma=0.1, kernel=rbf; total time=   0.0s\n",
            "[CV] END ........................C=10, gamma=0.1, kernel=rbf; total time=   0.0s\n",
            "[CV] END ........................C=10, gamma=0.1, kernel=rbf; total time=   0.0s\n",
            "[CV] END .......................C=10, gamma=0.01, kernel=rbf; total time=   0.0s\n",
            "[CV] END .......................C=10, gamma=0.01, kernel=rbf; total time=   0.0s\n",
            "[CV] END .......................C=10, gamma=0.01, kernel=rbf; total time=   0.0s\n",
            "[CV] END .......................C=10, gamma=0.01, kernel=rbf; total time=   0.0s\n",
            "[CV] END .......................C=10, gamma=0.01, kernel=rbf; total time=   0.0s\n",
            "[CV] END ......................C=10, gamma=0.001, kernel=rbf; total time=   0.0s\n",
            "[CV] END ......................C=10, gamma=0.001, kernel=rbf; total time=   0.0s\n",
            "[CV] END ......................C=10, gamma=0.001, kernel=rbf; total time=   0.0s\n",
            "[CV] END ......................C=10, gamma=0.001, kernel=rbf; total time=   0.0s\n",
            "[CV] END ......................C=10, gamma=0.001, kernel=rbf; total time=   0.0s\n",
            "[CV] END .........................C=100, gamma=1, kernel=rbf; total time=   0.0s\n",
            "[CV] END .........................C=100, gamma=1, kernel=rbf; total time=   0.0s\n",
            "[CV] END .........................C=100, gamma=1, kernel=rbf; total time=   0.0s\n",
            "[CV] END .........................C=100, gamma=1, kernel=rbf; total time=   0.0s\n",
            "[CV] END .........................C=100, gamma=1, kernel=rbf; total time=   0.0s\n",
            "[CV] END .......................C=100, gamma=0.1, kernel=rbf; total time=   0.0s\n",
            "[CV] END .......................C=100, gamma=0.1, kernel=rbf; total time=   0.0s\n",
            "[CV] END .......................C=100, gamma=0.1, kernel=rbf; total time=   0.0s\n",
            "[CV] END .......................C=100, gamma=0.1, kernel=rbf; total time=   0.0s\n",
            "[CV] END .......................C=100, gamma=0.1, kernel=rbf; total time=   0.0s\n",
            "[CV] END ......................C=100, gamma=0.01, kernel=rbf; total time=   0.0s\n",
            "[CV] END ......................C=100, gamma=0.01, kernel=rbf; total time=   0.0s\n",
            "[CV] END ......................C=100, gamma=0.01, kernel=rbf; total time=   0.0s\n",
            "[CV] END ......................C=100, gamma=0.01, kernel=rbf; total time=   0.0s\n",
            "[CV] END ......................C=100, gamma=0.01, kernel=rbf; total time=   0.0s\n",
            "[CV] END .....................C=100, gamma=0.001, kernel=rbf; total time=   0.0s\n",
            "[CV] END .....................C=100, gamma=0.001, kernel=rbf; total time=   0.0s\n",
            "[CV] END .....................C=100, gamma=0.001, kernel=rbf; total time=   0.0s\n",
            "[CV] END .....................C=100, gamma=0.001, kernel=rbf; total time=   0.0s\n",
            "[CV] END .....................C=100, gamma=0.001, kernel=rbf; total time=   0.0s\n",
            "Best Parameters: {'C': 100, 'gamma': 0.001, 'kernel': 'rbf'}\n",
            "Best SVM Accuracy: 0.9824561403508771\n",
            "Confusion Matrix:\n",
            " [[71  0]\n",
            " [ 2 41]]\n",
            "Classification Report:\n",
            "               precision    recall  f1-score   support\n",
            "\n",
            "           0       0.97      1.00      0.99        71\n",
            "           1       1.00      0.95      0.98        43\n",
            "\n",
            "    accuracy                           0.98       114\n",
            "   macro avg       0.99      0.98      0.98       114\n",
            "weighted avg       0.98      0.98      0.98       114\n",
            "\n"
          ]
        }
      ]
    },
    {
      "cell_type": "code",
      "source": [
        "import numpy as np\n",
        "import pandas as pd\n",
        "import matplotlib.pyplot as plt\n",
        "import seaborn as sns\n",
        "from sklearn.model_selection import train_test_split\n",
        "from sklearn.preprocessing import StandardScaler\n",
        "from sklearn.metrics import classification_report, confusion_matrix, accuracy_score\n",
        "df=pd.read_csv(\"breast-cancer.csv\")\n",
        "\n",
        "## Label Encoding\n",
        "df[\"diagnosis\"]=df[\"diagnosis\"].map({\"M\":1, \"B\":0})\n",
        "x=df.drop(columns=[\"diagnosis\",\"id\"])\n",
        "y=df[\"diagnosis\"]\n",
        "\n",
        "\n",
        "# train_test_`split\n",
        "\n",
        "x_train,x_test, y_train, y_test= train_test_split(x,y,test_size=0.2,random_state=42)\n",
        "sc=StandardScaler()\n",
        "x_train=sc.fit_transform(x_train)\n",
        "x_test=sc.transform(x_test)\n",
        "\n",
        "## Decision Tree\n",
        "from sklearn.tree import DecisionTreeClassifier\n",
        "model=DecisionTreeClassifier(random_state=41)\n",
        "model.fit(x_train,y_train)\n",
        "y_pred=model.predict(x_test)\n",
        "print(\"classification report\",classification_report(y_test,y_pred))\n",
        "print(\"confusion matrix\",confusion_matrix(y_test,y_pred))\n",
        "print(f\"accuracy {accuracy_score(y_test, y_pred)}\")\n",
        "\n",
        "## SVM\n",
        "from sklearn.svm import SVC\n",
        "svm_mod=SVC(kernel=\"linear\", random_state=101)\n",
        "svm_mod.fit(x_train,y_train)\n",
        "svm_prd= svm_mod.predict(x_test)\n",
        "print(\"classification report\",classification_report(y_test,y_pred))\n",
        "print(\"confusion matrix\",confusion_matrix(y_test,y_pred))\n",
        "print(f\"accuracy {accuracy_score(y_test, y_pred)}\")\n",
        "\n",
        "\n",
        "#model saving\n",
        "import joblib\n",
        "joblib.dump(best_svm_model,\"Breast Cancer Model.pkl\")"
      ],
      "metadata": {
        "colab": {
          "base_uri": "https://localhost:8080/"
        },
        "id": "gF_wN-qRc5Tt",
        "outputId": "e6e4ad62-5f66-434d-a477-f4baf25ef833"
      },
      "execution_count": null,
      "outputs": [
        {
          "output_type": "stream",
          "name": "stdout",
          "text": [
            "classification report               precision    recall  f1-score   support\n",
            "\n",
            "           0       0.94      0.94      0.94        71\n",
            "           1       0.91      0.91      0.91        43\n",
            "\n",
            "    accuracy                           0.93       114\n",
            "   macro avg       0.93      0.93      0.93       114\n",
            "weighted avg       0.93      0.93      0.93       114\n",
            "\n",
            "confusion matrix [[67  4]\n",
            " [ 4 39]]\n",
            "accuracy 0.9298245614035088\n",
            "classification report               precision    recall  f1-score   support\n",
            "\n",
            "           0       0.94      0.94      0.94        71\n",
            "           1       0.91      0.91      0.91        43\n",
            "\n",
            "    accuracy                           0.93       114\n",
            "   macro avg       0.93      0.93      0.93       114\n",
            "weighted avg       0.93      0.93      0.93       114\n",
            "\n",
            "confusion matrix [[67  4]\n",
            " [ 4 39]]\n",
            "accuracy 0.9298245614035088\n"
          ]
        },
        {
          "output_type": "execute_result",
          "data": {
            "text/plain": [
              "['Breast Cancer Model.pkl']"
            ]
          },
          "metadata": {},
          "execution_count": 10
        }
      ]
    }
  ],
  "metadata": {
    "colab": {
      "provenance": []
    },
    "kernelspec": {
      "display_name": "Python 3",
      "name": "python3"
    },
    "language_info": {
      "name": "python"
    }
  },
  "nbformat": 4,
  "nbformat_minor": 0
}